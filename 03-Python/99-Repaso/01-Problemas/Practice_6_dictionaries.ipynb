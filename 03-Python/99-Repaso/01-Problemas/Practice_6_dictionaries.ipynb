{
 "cells": [
  {
   "cell_type": "markdown",
   "metadata": {},
   "source": [
    "# Python | day 6 | dictionaries"
   ]
  },
  {
   "cell_type": "markdown",
   "metadata": {},
   "source": [
    "Los diccionarios se utilizan para almacenar valores de datos en pares clave:valor.\n",
    "\n",
    "Un diccionario es una colección desordenada, modificable y que no admite claves duplicadas.\n",
    "\n",
    "Los diccionarios se escriben entre llaves y tienen claves y valores:"
   ]
  },
  {
   "cell_type": "markdown",
   "metadata": {},
   "source": [
    "```python\n",
    "thisdict = {\n",
    "  \"brand\": \"Ford\",\n",
    "  \"model\": \"Mustang\",\n",
    "  \"year\": 1964\n",
    "}\n",
    "```"
   ]
  },
  {
   "cell_type": "markdown",
   "metadata": {},
   "source": [
    "### Ejercicio 1.\n",
    "\n",
    "1. Crea un diccionario con un entero 5 como clave y \"val\" como valor."
   ]
  },
  {
   "cell_type": "code",
   "execution_count": null,
   "metadata": {},
   "outputs": [],
   "source": [
    "dict_1 = {5:'val'}"
   ]
  },
  {
   "cell_type": "markdown",
   "metadata": {},
   "source": [
    "2. Crea dos listas: una con 4 nombres de ciudades y otra con 4 lugares emblemáticos de la ciudad."
   ]
  },
  {
   "cell_type": "code",
   "execution_count": 8,
   "metadata": {},
   "outputs": [],
   "source": [
    "ciudades = ['barcelona','granada','salamanca','sevilla']\n",
    "lugares = ['sagrada familia','la alhambra','universidad de salamanca','la giralda'] "
   ]
  },
  {
   "cell_type": "markdown",
   "metadata": {},
   "source": [
    "3. Crear un diccionario en el que las ciudades contenidas en la primera lista sean las **claves** y los puntos de referencia sean los **valores**.\n",
    "```python\n",
    "#example\n",
    "places = {\"Malaga\": \"Gibralfaro\", \n",
    "         \"Madrid\": \"Templo de Debod\",\n",
    "         \"Granada\": \"La Alcazaba\",\n",
    "         \"Barcelona\": \"Sagrada Familia\"}\n",
    "```"
   ]
  },
  {
   "cell_type": "code",
   "execution_count": 10,
   "metadata": {},
   "outputs": [
    {
     "data": {
      "text/plain": [
       "{'barcelona': 'sagrada familia',\n",
       " 'granada': 'la alhambra',\n",
       " 'salamanca': 'universidad de salamanca',\n",
       " 'sevilla': 'la giralda'}"
      ]
     },
     "execution_count": 10,
     "metadata": {},
     "output_type": "execute_result"
    }
   ],
   "source": [
    "def crear(ciudades, lugares):\n",
    "    visitar = {}\n",
    "    for ciudad,lugar in zip(ciudades,lugares):\n",
    "        visitar[ciudad] = lugar\n",
    "    return (visitar)\n",
    "\n",
    "crear(ciudades, lugares)"
   ]
  },
  {
   "cell_type": "markdown",
   "metadata": {},
   "source": [
    "4. Recorre el diccionario e imprime sólo los valores de las claves que empiecen por la letra **M**."
   ]
  },
  {
   "cell_type": "code",
   "execution_count": 11,
   "metadata": {},
   "outputs": [
    {
     "name": "stdout",
     "output_type": "stream",
     "text": [
      "salamanca\n",
      "sevilla\n"
     ]
    }
   ],
   "source": [
    "for palabra in crear(ciudades,lugares).keys():\n",
    "    if palabra[0] == 's':\n",
    "        print (palabra)\n",
    "    "
   ]
  },
  {
   "cell_type": "markdown",
   "metadata": {},
   "source": [
    "5. Crea una función que reciba como parámetros dos listas `lista1` y `lista2` y devuelva un diccionario con cada elemento de `lista1` como claves y los elementos de `lista2` como valores. Llama a la función con las listas que has creado antes para que devuelva el mismo diccionario que has creado en la pregunta 3."
   ]
  },
  {
   "cell_type": "code",
   "execution_count": null,
   "metadata": {},
   "outputs": [],
   "source": []
  },
  {
   "cell_type": "markdown",
   "metadata": {},
   "source": [
    "### Ejercicio 2."
   ]
  },
  {
   "cell_type": "markdown",
   "metadata": {},
   "source": [
    "1. Crea un diccionario vacío llamado perro."
   ]
  },
  {
   "cell_type": "code",
   "execution_count": 12,
   "metadata": {},
   "outputs": [],
   "source": [
    "perro = {}"
   ]
  },
  {
   "cell_type": "markdown",
   "metadata": {},
   "source": [
    "2. Añade nombre, color, raza, patas, edad al diccionario canino."
   ]
  },
  {
   "cell_type": "code",
   "execution_count": 14,
   "metadata": {},
   "outputs": [
    {
     "name": "stdout",
     "output_type": "stream",
     "text": [
      "{'color': 'canela', 'raza': 'Pastor australiano', 'patas': 4, 'edad': 6}\n"
     ]
    }
   ],
   "source": [
    "perro['color'] = 'canela'\n",
    "perro['raza'] = 'Pastor australiano'\n",
    "perro['patas'] = 4\n",
    "perro['edad'] = 6\n",
    "\n",
    "print(perro)"
   ]
  },
  {
   "cell_type": "markdown",
   "metadata": {},
   "source": [
    "3. Cree un diccionario de alumnos y añada nombre_apellido, edad, habilidades, país, ciudad y dirección como claves del diccionario.\n"
   ]
  },
  {
   "cell_type": "code",
   "execution_count": 34,
   "metadata": {},
   "outputs": [
    {
     "name": "stdout",
     "output_type": "stream",
     "text": [
      "{}\n"
     ]
    }
   ],
   "source": [
    "alumnos = {}\n",
    "\n",
    "nombre_apellido = 'Andres Montero' \n",
    "edad = 26\n",
    "habilidades = ['ordenado','perseverante','reservado']\n",
    "pais = 'España'\n",
    "ciudad = 'Madrid'\n",
    "\n",
    "\n",
    "\n",
    "print(alumnos)\n"
   ]
  },
  {
   "cell_type": "code",
   "execution_count": 36,
   "metadata": {},
   "outputs": [
    {
     "name": "stdout",
     "output_type": "stream",
     "text": [
      "{'nombre_apellido': 'Andres Montero', 'edad': 26, 'habilidades': ['ordenado', 'perseverante', 'reservado'], 'pais': 'España', 'ciudad': 'Madrid'}\n"
     ]
    }
   ],
   "source": [
    "llaves = ['nombre_apellido', 'edad', 'habilidades', 'pais', 'ciudad']\n",
    "alumnos = dict.fromkeys(llaves, None)\n",
    "\n",
    "alumnos['nombre_apellido'] = nombre_apellido\n",
    "alumnos['edad'] = edad\n",
    "alumnos['habilidades'] = habilidades\n",
    "alumnos ['pais'] = pais\n",
    "alumnos ['ciudad'] = ciudad\n",
    "print(alumnos)"
   ]
  },
  {
   "cell_type": "markdown",
   "metadata": {},
   "source": [
    "4. Obtenga la longitud del diccionario del alumno.\n"
   ]
  },
  {
   "cell_type": "code",
   "execution_count": 37,
   "metadata": {},
   "outputs": [
    {
     "name": "stdout",
     "output_type": "stream",
     "text": [
      "5\n"
     ]
    }
   ],
   "source": [
    "print(len(alumnos))"
   ]
  },
  {
   "cell_type": "markdown",
   "metadata": {},
   "source": [
    "5. Obtén el valor de skills y comprueba el tipo de datos, debe ser una lista."
   ]
  },
  {
   "cell_type": "code",
   "execution_count": null,
   "metadata": {},
   "outputs": [],
   "source": [
    "print()"
   ]
  },
  {
   "cell_type": "markdown",
   "metadata": {},
   "source": [
    "6. Modifica los valores de las habilidades añadiendo una o dos habilidades."
   ]
  },
  {
   "cell_type": "code",
   "execution_count": 46,
   "metadata": {},
   "outputs": [
    {
     "name": "stdout",
     "output_type": "stream",
     "text": [
      "['ordenado', 'perseverante', 'reservado', 'buen hermano']\n"
     ]
    }
   ],
   "source": [
    "habilidades = ['ordenado','perseverante','reservado']\n",
    "habilidades.append('buen hermano')\n",
    "alumnos['habilidades'] = habilidades\n",
    "print(alumnos['habilidades'])"
   ]
  },
  {
   "cell_type": "markdown",
   "metadata": {},
   "source": [
    "7. Obtener las claves del diccionario como una lista."
   ]
  },
  {
   "cell_type": "code",
   "execution_count": 47,
   "metadata": {},
   "outputs": [
    {
     "name": "stdout",
     "output_type": "stream",
     "text": [
      "['nombre_apellido', 'edad', 'habilidades', 'pais', 'ciudad']\n"
     ]
    }
   ],
   "source": [
    "claves = list(alumnos.keys())\n",
    "print(claves)"
   ]
  },
  {
   "cell_type": "markdown",
   "metadata": {},
   "source": [
    "8. Obtener los valores del diccionario como una lista.\n"
   ]
  },
  {
   "cell_type": "code",
   "execution_count": 48,
   "metadata": {},
   "outputs": [
    {
     "name": "stdout",
     "output_type": "stream",
     "text": [
      "['Andres Montero', 26, ['ordenado', 'perseverante', 'reservado', 'buen hermano'], 'España', 'Madrid']\n"
     ]
    }
   ],
   "source": [
    "valores = list(alumnos.values())\n",
    "print(valores)"
   ]
  },
  {
   "cell_type": "markdown",
   "metadata": {},
   "source": [
    "9. Cambiar el diccionario a una lista de tuplas utilizando el método `items()`."
   ]
  },
  {
   "cell_type": "code",
   "execution_count": 49,
   "metadata": {},
   "outputs": [
    {
     "data": {
      "text/plain": [
       "dict_items([('nombre_apellido', 'Andres Montero'), ('edad', 26), ('habilidades', ['ordenado', 'perseverante', 'reservado', 'buen hermano']), ('pais', 'España'), ('ciudad', 'Madrid')])"
      ]
     },
     "execution_count": 49,
     "metadata": {},
     "output_type": "execute_result"
    }
   ],
   "source": [
    "alumnos.items()"
   ]
  },
  {
   "cell_type": "markdown",
   "metadata": {},
   "source": [
    "10. Elimine uno de los elementos del diccionario.\n"
   ]
  },
  {
   "cell_type": "code",
   "execution_count": 50,
   "metadata": {},
   "outputs": [
    {
     "name": "stdout",
     "output_type": "stream",
     "text": [
      "{'nombre_apellido': 'Andres Montero', 'edad': 26, 'habilidades': ['ordenado', 'perseverante', 'reservado', 'buen hermano'], 'pais': 'España'}\n"
     ]
    }
   ],
   "source": [
    "del alumnos['ciudad']\n",
    "print(alumnos)"
   ]
  },
  {
   "cell_type": "markdown",
   "metadata": {},
   "source": [
    "### Bonus Track"
   ]
  },
  {
   "cell_type": "markdown",
   "metadata": {},
   "source": [
    "**Tómate una cervecita o un zumito a tu salud.**"
   ]
  },
  {
   "cell_type": "markdown",
   "metadata": {},
   "source": [
    "!['daughter'](https://i.pinimg.com/originals/8f/35/28/8f35281e742e71be09697e7e6789b819.png)"
   ]
  },
  {
   "cell_type": "code",
   "execution_count": null,
   "metadata": {},
   "outputs": [],
   "source": []
  }
 ],
 "metadata": {
  "kernelspec": {
   "display_name": "Python 3",
   "language": "python",
   "name": "python3"
  },
  "language_info": {
   "codemirror_mode": {
    "name": "ipython",
    "version": 3
   },
   "file_extension": ".py",
   "mimetype": "text/x-python",
   "name": "python",
   "nbconvert_exporter": "python",
   "pygments_lexer": "ipython3",
   "version": "3.12.1"
  }
 },
 "nbformat": 4,
 "nbformat_minor": 2
}
