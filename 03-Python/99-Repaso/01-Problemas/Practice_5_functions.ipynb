{
 "cells": [
  {
   "cell_type": "markdown",
   "metadata": {},
   "source": [
    "# Python | day 5 | functions"
   ]
  },
  {
   "cell_type": "markdown",
   "metadata": {},
   "source": [
    "En Python, una función es un grupo de sentencias relacionadas que realizan una tarea específica."
   ]
  },
  {
   "cell_type": "markdown",
   "metadata": {},
   "source": [
    "#### Diferencia entre `return` e `print`.\n",
    "\n",
    "Tómate unos minutos para entender la diferencia entre `return` e `print`, parece que son lo mismo, pero no lo son y es importante que entiendas la diferencia."
   ]
  },
  {
   "cell_type": "code",
   "execution_count": 1,
   "metadata": {},
   "outputs": [
    {
     "name": "stdout",
     "output_type": "stream",
     "text": [
      "2\n",
      "4\n",
      "8\n"
     ]
    }
   ],
   "source": [
    "def suma(a,b):\n",
    "    print(a)\n",
    "    return a+b\n",
    "\n",
    "print(suma(suma(2,2),4))"
   ]
  },
  {
   "cell_type": "markdown",
   "metadata": {},
   "source": [
    "#### Comentarios en una función."
   ]
  },
  {
   "cell_type": "code",
   "execution_count": 3,
   "metadata": {},
   "outputs": [],
   "source": [
    "def say_hello(name):\n",
    "    \"\"\"\n",
    "    Given a name as an argument, \n",
    "    the function return a string greeting\n",
    "    the name given. \n",
    "    \"\"\"\n",
    "    return f\"hello {name}\""
   ]
  },
  {
   "cell_type": "code",
   "execution_count": 4,
   "metadata": {},
   "outputs": [
    {
     "name": "stdout",
     "output_type": "stream",
     "text": [
      "hello Clara\n"
     ]
    }
   ],
   "source": [
    "print(say_hello(\"Clara\"))"
   ]
  },
  {
   "cell_type": "code",
   "execution_count": 5,
   "metadata": {},
   "outputs": [
    {
     "name": "stdout",
     "output_type": "stream",
     "text": [
      "Help on function say_hello in module __main__:\n",
      "\n",
      "say_hello(name)\n",
      "    Given a name as an argument,\n",
      "    the function return a string greeting\n",
      "    the name given.\n",
      "\n"
     ]
    }
   ],
   "source": [
    "help(say_hello)"
   ]
  },
  {
   "cell_type": "markdown",
   "metadata": {},
   "source": [
    "### Ejercicio 1."
   ]
  },
  {
   "cell_type": "markdown",
   "metadata": {},
   "source": [
    "Para resolver los siguientes ejercicios será necesario definir una función para cada apartado. Elige el nombre de esas funciones a menos que se especifique, pero asegúrate de definir un único parámetro `cualquiera_lista`, al llamar a la función corresponderá a la variable `info_lista`.\n"
   ]
  },
  {
   "cell_type": "code",
   "execution_count": 23,
   "metadata": {},
   "outputs": [],
   "source": [
    "# puedes utilizar esta lista o tomar la tuya de la Práctica 3\n",
    "info_list = [15, 'Recoletos', True, ['Recoletos', 15],  None, '8'] "
   ]
  },
  {
   "cell_type": "markdown",
   "metadata": {},
   "source": [
    "1. Muestra en pantalla `\"Me gusta la tranquilidad\"` si te gusta más la montaña y `\"Me encantaría vivir en Málaga\"` si te gusta más la playa.\n",
    "\n",
    "**Recuerda que debes definir una función que haga exactamente eso pero para una lista llamada `cualquira_lista`.\n",
    "Una vez hecho esto, llama a la función con `info_list` como argumento."
   ]
  },
  {
   "cell_type": "code",
   "execution_count": 24,
   "metadata": {},
   "outputs": [
    {
     "name": "stdout",
     "output_type": "stream",
     "text": [
      "Me encantaria vivir en Malaga\n"
     ]
    }
   ],
   "source": [
    "def gustos (cualquiera_lista):\n",
    "    lista = [print('Me encantaria vivir en Malaga') for x in info_list if x == True]\n",
    "    return\n",
    "gustos(info_list)"
   ]
  },
  {
   "cell_type": "markdown",
   "metadata": {},
   "source": [
    "2. Imprime **\"Hoy estoy cansado\"** si has dormido menos de 7 horas o **\"Hoy conquisto el mundo\"** si has dormido más de 7 horas."
   ]
  },
  {
   "cell_type": "code",
   "execution_count": 12,
   "metadata": {},
   "outputs": [
    {
     "name": "stdout",
     "output_type": "stream",
     "text": [
      "Hoy estoy cansado\n"
     ]
    }
   ],
   "source": [
    "def conquista(num_horas:float):\n",
    "    if num_horas < 0:    \n",
    "        print('No se pueden dormir horas negativas')\n",
    "    elif num_horas > 7:\n",
    "        print('Hoy conquisto el mundo')\n",
    "    elif num_horas < 7:\n",
    "        print ('Hoy estoy cansado')\n",
    "    return\n",
    "\n",
    "conquista(3)\n"
   ]
  },
  {
   "cell_type": "markdown",
   "metadata": {},
   "source": [
    "3. Recorrer `cualquira_lista` para imprimir todos los elementos que contiene. Esta función debe devolver la lista convertida en tupla."
   ]
  },
  {
   "cell_type": "code",
   "execution_count": 16,
   "metadata": {},
   "outputs": [
    {
     "name": "stdout",
     "output_type": "stream",
     "text": [
      "[26, 2, 24]\n",
      "practicando\n",
      "soleado\n"
     ]
    },
    {
     "data": {
      "text/plain": [
       "([26, 2, 24], 'practicando', 'soleado')"
      ]
     },
     "execution_count": 16,
     "metadata": {},
     "output_type": "execute_result"
    }
   ],
   "source": [
    "cualquier_lista = [[26,2,24],'practicando','soleado']\n",
    "def lista_a_tupla(cualquier_lista):\n",
    "    lista = [print(x) for x in cualquier_lista]\n",
    "    lista = [x for x in cualquier_lista]\n",
    "    tupla = tuple(lista)\n",
    "    return tupla\n",
    "\n",
    "lista_a_tupla(cualquier_lista)"
   ]
  },
  {
   "cell_type": "markdown",
   "metadata": {},
   "source": [
    "4. Recorrer `cualquira_lista` para imprimir todos los elementos que contiene concatenados con la cadena `\"--> OK\"`. Esta función debe devolver un mensaje diciendo, `\"everything will be ok\"`.\n"
   ]
  },
  {
   "cell_type": "code",
   "execution_count": 26,
   "metadata": {},
   "outputs": [
    {
     "name": "stdout",
     "output_type": "stream",
     "text": [
      "[26, 2, 24] --> OK\n",
      "practicando --> OK\n",
      "soleado --> OK\n"
     ]
    },
    {
     "data": {
      "text/plain": [
       "'Everything will be ok'"
      ]
     },
     "execution_count": 26,
     "metadata": {},
     "output_type": "execute_result"
    }
   ],
   "source": [
    "def everything_ok (cualquier_lista):\n",
    "    msg = '--> OK'\n",
    "    lista = [print(x, msg) for x in cualquier_lista]\n",
    "    return 'Everything will be ok'\n",
    "\n",
    "everything_ok(cualquier_lista)    "
   ]
  },
  {
   "cell_type": "markdown",
   "metadata": {},
   "source": [
    "5. Recorrer `cualquira_lista` para mostrar todos los elementos que contiene excepto el primero. Esta función debe devolver el primer elemento de la lista."
   ]
  },
  {
   "cell_type": "code",
   "execution_count": 21,
   "metadata": {},
   "outputs": [
    {
     "name": "stdout",
     "output_type": "stream",
     "text": [
      "practicando\n",
      "soleado\n"
     ]
    },
    {
     "data": {
      "text/plain": [
       "[26, 2, 24]"
      ]
     },
     "execution_count": 21,
     "metadata": {},
     "output_type": "execute_result"
    }
   ],
   "source": [
    "def primero(cualquier_lista):\n",
    "    lista = [print(x) for x in cualquier_lista[1:]]\n",
    "    return cualquier_lista[0]\n",
    "\n",
    "primero(cualquier_lista)"
   ]
  },
  {
   "cell_type": "markdown",
   "metadata": {},
   "source": [
    "6. Recorrer `cualquira_lista` para mostrar todos los elementos que contiene excepto el último. Esta función debe devolver el último elemento de la lista."
   ]
  },
  {
   "cell_type": "code",
   "execution_count": 32,
   "metadata": {},
   "outputs": [
    {
     "name": "stdout",
     "output_type": "stream",
     "text": [
      "[26, 2, 24]\n",
      "practicando\n"
     ]
    },
    {
     "data": {
      "text/plain": [
       "'soleado'"
      ]
     },
     "execution_count": 32,
     "metadata": {},
     "output_type": "execute_result"
    }
   ],
   "source": [
    "def ultimo(cualquier_lista):\n",
    "    lista = [print(x) for x in cualquier_lista[0:-1]]\n",
    "    return cualquier_lista[-1]\n",
    "\n",
    "ultimo(cualquier_lista)"
   ]
  },
  {
   "cell_type": "markdown",
   "metadata": {},
   "source": [
    "7. Recorre `cualquira_lista` para mostrar todos los elementos que contiene excepto el número de la calle y las horas que has dormido."
   ]
  },
  {
   "cell_type": "code",
   "execution_count": 35,
   "metadata": {},
   "outputs": [
    {
     "name": "stdout",
     "output_type": "stream",
     "text": [
      "Recoletos\n",
      "True\n",
      "['Recoletos', 15]\n",
      "None\n",
      "8\n"
     ]
    }
   ],
   "source": [
    "info_list = [15, 'Recoletos', True, ['Recoletos', 15],  None, '8'] \n",
    "def sin_dirección(info_list):\n",
    "    lista = [print(x) for x in info_list if type(x) != int]\n",
    "    return\n",
    "    \n",
    "sin_dirección(info_list)"
   ]
  },
  {
   "cell_type": "markdown",
   "metadata": {},
   "source": [
    "8. Recorrer `cualquira_lista` para imprimir todos los elementos que contiene excepto el primer elemento de la lista que está en cuarta posición (`'Recoletos`). Esta función debe devolver la longitud de ese elemento."
   ]
  },
  {
   "cell_type": "code",
   "execution_count": 40,
   "metadata": {},
   "outputs": [
    {
     "name": "stdout",
     "output_type": "stream",
     "text": [
      "15\n",
      "Recoletos\n",
      "True\n",
      "15\n",
      "None\n",
      "8\n"
     ]
    },
    {
     "data": {
      "text/plain": [
       "9"
      ]
     },
     "execution_count": 40,
     "metadata": {},
     "output_type": "execute_result"
    }
   ],
   "source": [
    "def sin_recoletos(cualquier_lista):\n",
    "    for item in cualquier_lista:\n",
    "        if type(item) != list:\n",
    "            print(item)\n",
    "        if type(item) == list:\n",
    "            print(cualquier_lista[3][1])    \n",
    "    return len(cualquier_lista[3][0])\n",
    "\n",
    "sin_recoletos (info_list)"
   ]
  },
  {
   "cell_type": "markdown",
   "metadata": {},
   "source": [
    "9. Haz un bucle sobre `cualquira_lista` para mostrar todos los elementos que contiene excepto el que contiene la información sobre si te gusta la montaña o la playa. La función debe devolver un mensaje que diga `\"Me encanta la playa\"` si prefieres la playa y un mensaje que diga `\"Me encanta la montaña\"` en caso contrario. "
   ]
  },
  {
   "cell_type": "code",
   "execution_count": null,
   "metadata": {},
   "outputs": [],
   "source": []
  },
  {
   "cell_type": "code",
   "execution_count": null,
   "metadata": {},
   "outputs": [],
   "source": []
  },
  {
   "cell_type": "markdown",
   "metadata": {},
   "source": [
    "### Ejercicio 2.\n",
    "\n",
    "En caso de no poder resolver una pregunta que contenga el código de una función, intenta hacerlo sin definir ninguna."
   ]
  },
  {
   "cell_type": "markdown",
   "metadata": {},
   "source": [
    "1. Crea una variable llamada `zone` y dale el valor **None**. 2. Recorre `cualquira_lista` y actualiza `zona` a **True** si y sólo si, has dormido más de 7 horas, te gusta la playa y la suma de las horas que has dormido más el número de El Puente es menor de 24. Para cualquier otro caso, `zone` será **False**. Esta función debe devolver el valor de `zone` y se llamará `zone_function`.\n"
   ]
  },
  {
   "cell_type": "code",
   "execution_count": 5,
   "metadata": {},
   "outputs": [
    {
     "name": "stdout",
     "output_type": "stream",
     "text": [
      "None\n"
     ]
    }
   ],
   "source": [
    "zone = None\n",
    "info_list = [15, 'Recoletos', True, ['Recoletos', 15], zone, '8'] \n",
    "def zone_function(info_list):\n",
    "    if info_list[0] + int(info_list[-1]) < 24 and info_list[2] == True and int(info_list[-1]) > 7:\n",
    "        zone = True \n",
    "    return\n",
    "zone_function (info_list)\n",
    "print(zone_function(info_list))"
   ]
  },
  {
   "cell_type": "markdown",
   "metadata": {},
   "source": [
    "2. Define una función llamada `test_function` que reciba un único parámetro llamado `zone_value` y que devuelva el valor de `zone_value` si es **True**. Una vez definida `test_function` deberás llamarla con el valor devuelto por `zone_function` como argumento."
   ]
  },
  {
   "cell_type": "code",
   "execution_count": null,
   "metadata": {},
   "outputs": [],
   "source": []
  },
  {
   "cell_type": "markdown",
   "metadata": {},
   "source": [
    "3. Define una función que pregunte al usuario si le gusta la montaña y, en caso negativo, llame a la función `zone_function`."
   ]
  },
  {
   "cell_type": "code",
   "execution_count": null,
   "metadata": {},
   "outputs": [],
   "source": []
  },
  {
   "cell_type": "markdown",
   "metadata": {},
   "source": [
    "### Bonus Track.\n",
    "\n",
    "**Este Bonus Track puede llevarte varios días, no pasa nada, a veces la codificación es cuestión de tiempo.**"
   ]
  },
  {
   "cell_type": "markdown",
   "metadata": {},
   "source": [
    "1. Programa **una calculadora** que pida en pantalla dos números y dos operadores. Primero debe realizarse una operación y luego otra. Intenta definir el mayor número posible de funciones."
   ]
  },
  {
   "cell_type": "code",
   "execution_count": null,
   "metadata": {},
   "outputs": [],
   "source": []
  },
  {
   "cell_type": "markdown",
   "metadata": {},
   "source": [
    "!['ha'](https://i.pinimg.com/originals/c6/4e/fc/c64efc9adaedbf446f328698e8b67388.jpg)"
   ]
  },
  {
   "cell_type": "code",
   "execution_count": null,
   "metadata": {},
   "outputs": [],
   "source": []
  }
 ],
 "metadata": {
  "kernelspec": {
   "display_name": "Python 3.9.0 64-bit",
   "metadata": {
    "interpreter": {
     "hash": "2475d6245a592878725d4384023842617923001cc03e07ab60580c5fb01fa30c"
    }
   },
   "name": "python3"
  },
  "language_info": {
   "codemirror_mode": {
    "name": "ipython",
    "version": 3
   },
   "file_extension": ".py",
   "mimetype": "text/x-python",
   "name": "python",
   "nbconvert_exporter": "python",
   "pygments_lexer": "ipython3",
   "version": "3.12.1"
  }
 },
 "nbformat": 4,
 "nbformat_minor": 4
}
