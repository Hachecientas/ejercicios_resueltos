{
 "cells": [
  {
   "cell_type": "markdown",
   "metadata": {},
   "source": [
    "![imagen](./img/espectadores.jpg)"
   ]
  },
  {
   "cell_type": "markdown",
   "metadata": {},
   "source": [
    "<table align=\"left\">\n",
    " <tr><td width=\"80\"><img src=\"./img/ejercicio.png\" style=\"width:auto;height:auto\"></td>\n",
    "     <td style=\"text-align:left\">\n",
    "         <h3>Ejercicio. Crea tu propia funcion</h3>\n",
    "\n",
    "Crea tu propia funcion. En este caso, queremos implementar una función para saber si podremos ir de excursión a la montaña. Para ello, la función recibirá dos argumentos: tiempo, que sera un booleano, y una lista con acompañantes. Si hace buen tiempo y al menos vienen dos personas conmigo -> return el primero que se apuntó a la lista, si solo hace buen tiempo -> return \"A la montaña\", y si no, return \"No podemos ir\"\n",
    "         \n",
    " </td></tr>\n",
    "</table>"
   ]
  },
  {
   "cell_type": "code",
   "execution_count": 19,
   "metadata": {},
   "outputs": [
    {
     "name": "stdout",
     "output_type": "stream",
     "text": [
      "No podemos ir\n"
     ]
    }
   ],
   "source": [
    "def excursion(tiempo, acompañantes):\n",
    "    if tiempo == True and len(acompañantes) >= 2:\n",
    "        print(acompañantes[0])\n",
    "    elif tiempo == True:\n",
    "        print('A la montaña')\n",
    "    else:\n",
    "        print(\"No podemos ir\")\n",
    "\n",
    "excursion (False, ['Andres'])"
   ]
  },
  {
   "cell_type": "markdown",
   "metadata": {},
   "source": [
    "# Ejercicios funciones\n",
    "## Ejercicio 1\n",
    "Escribe una función que convierta números del 1 al 7 en nombres de los dias de la semana. La función constará de un único argumento numérico y una salida de tipo string"
   ]
  },
  {
   "cell_type": "code",
   "execution_count": 17,
   "metadata": {},
   "outputs": [
    {
     "name": "stdout",
     "output_type": "stream",
     "text": [
      "No es un número valido\n"
     ]
    }
   ],
   "source": [
    "def dias_semana(num_dias):\n",
    "    if num_dias not in range(1,8):\n",
    "        print(\"No es un número valido\")\n",
    "    if num_dias == 1:\n",
    "        print('Lunes')\n",
    "    elif num_dias == 2:\n",
    "        print('Martes')\n",
    "    elif num_dias == 3:\n",
    "        print('Miercoles')\n",
    "    elif num_dias == 4:\n",
    "        print('Jueves')\n",
    "    elif num_dias == 5:\n",
    "        print('Viernes')\n",
    "    elif num_dias == 6:\n",
    "        print('Sabado')\n",
    "    elif num_dias == 7:\n",
    "        print('Domingo')\n",
    "\n",
    "dias_semana(8)"
   ]
  },
  {
   "cell_type": "code",
   "execution_count": 2,
   "metadata": {},
   "outputs": [
    {
     "name": "stdout",
     "output_type": "stream",
     "text": [
      "Miercoles\n"
     ]
    }
   ],
   "source": [
    "def dia_semana(dia):\n",
    "    lista_dias = ['Lunes','Martes','Miercoles','Jueves','Viernes','Sabado','Domingo']\n",
    "    print(lista_dias[dia-1])\n",
    "\n",
    "dia_semana(3)"
   ]
  },
  {
   "cell_type": "markdown",
   "metadata": {},
   "source": [
    "## Ejercicio 2\n",
    "En el ejercicio 8 de bucles, creábamos una pirámide invertida, cuyo número de pisos venía determinado por un input del usuario. Crea una función que replique el comportamiento de la pirámide, y utiliza un único parámetro de entrada de la función para determinar el número de filas de la pirámide, es decir, elimina la sentencia input."
   ]
  },
  {
   "cell_type": "code",
   "execution_count": null,
   "metadata": {},
   "outputs": [],
   "source": []
  },
  {
   "cell_type": "markdown",
   "metadata": {},
   "source": [
    "## Ejercicio 3\n",
    "Escibe una función que compare dos números. La función tiene dos argumentos y hay tres salidas posibles: que sean iguales, que el primero se  mayor que el segundo, o que el segundo sea mayor que el primero"
   ]
  },
  {
   "cell_type": "code",
   "execution_count": 3,
   "metadata": {},
   "outputs": [
    {
     "name": "stdout",
     "output_type": "stream",
     "text": [
      "2 menor que 3\n"
     ]
    }
   ],
   "source": [
    "def compara (x,y):\n",
    "    if x == y:\n",
    "        print('Iguales')\n",
    "    elif x > y:\n",
    "        print(x, 'mayor que', y)\n",
    "    else:    \n",
    "        print(x, 'menor que', y)\n",
    "\n",
    "compara (2,3)"
   ]
  },
  {
   "cell_type": "markdown",
   "metadata": {},
   "source": [
    "## Ejercicio 4\n",
    "Escribe una función que sea un contador de letras. En el primer argumento tienes que introducir un texto, y el segundo que sea la letra a contar. La función tiene que devolver un entero con el número de veces que aparece esa letra, tanto mayuscula, como minúscula"
   ]
  },
  {
   "cell_type": "code",
   "execution_count": 25,
   "metadata": {},
   "outputs": [
    {
     "name": "stdout",
     "output_type": "stream",
     "text": [
      "1\n"
     ]
    }
   ],
   "source": [
    "def conteo(cadena, letra):\n",
    "    letras1 = cadena.lower()\n",
    "    letras2 = letra.lower()\n",
    "    total = letras1.count(letras2)\n",
    "    return total\n",
    "\n",
    "print(conteo('Helena','n'))"
   ]
  },
  {
   "cell_type": "markdown",
   "metadata": {},
   "source": [
    "## Ejercicio 5\n",
    "Escribe una función que tenga un único argumento, un string. La salida de la función tiene que ser un diccionario con el conteo de todas las letras de ese string."
   ]
  },
  {
   "cell_type": "code",
   "execution_count": 24,
   "metadata": {},
   "outputs": [
    {
     "name": "stdout",
     "output_type": "stream",
     "text": [
      "{0: 'H', 1: 'e', 2: 'l', 3: 'e', 4: 'n', 5: 'a'}\n"
     ]
    }
   ],
   "source": [
    "\n",
    "def diccionario (cadena):\n",
    "    letras = dict(enumerate(cadena))\n",
    "    print(letras)\n",
    "\n",
    "diccionario(\"Helena\")"
   ]
  },
  {
   "cell_type": "code",
   "execution_count": null,
   "metadata": {},
   "outputs": [],
   "source": [
    "def conteo_dict(text):\n",
    "    dict_conteo = {}\n",
    "    for i in text:\n",
    "        if i in dict_conteo.keys():\n",
    "            dict_conteo[i] = dict_conteo[i] + 1 \n",
    "        else:\n",
    "            dict_conteo[i] = 1\n",
    "    return dict_conteo\n",
    "\n",
    "# si esta en el diccionario, le suma 1, si no esta (else): inicializa con valor 1"
   ]
  },
  {
   "cell_type": "markdown",
   "metadata": {},
   "source": [
    "## Ejercicio 6\n",
    "Escribir una función que añada o elimine elementos en una lista. La función necesita los siguientes argumentos:\n",
    "* lista: la lista donde se añadirán o eliminarán los elementos\n",
    "* comando: \"add\" o \"remove\"\n",
    "* elemento: Por defecto es None."
   ]
  },
  {
   "cell_type": "code",
   "execution_count": 8,
   "metadata": {},
   "outputs": [
    {
     "data": {
      "text/plain": [
       "['Lunes', 'Febrero']"
      ]
     },
     "execution_count": 8,
     "metadata": {},
     "output_type": "execute_result"
    }
   ],
   "source": [
    "def sumacero (lista_sum,add,remove,elemento = None): #si no pongo nada por defecto es nada, para que no haga nada la funcion si no meto nada\n",
    "    if add == True:\n",
    "        lista_sum1 = lista_sum.copy()\n",
    "        lista_sum1.append(elemento)\n",
    "        return lista_sum1\n",
    "    elif remove == True:\n",
    "        lista_sum1 = lista_sum.copy()\n",
    "        lista_sum1.remove(elemento)\n",
    "        return lista_sum1\n",
    "\n",
    "lista_sum = ['Lunes',19,'Febrero']\n",
    "\n",
    "sumacero(lista_sum,False,True,19)\n"
   ]
  },
  {
   "cell_type": "code",
   "execution_count": 9,
   "metadata": {},
   "outputs": [
    {
     "name": "stdout",
     "output_type": "stream",
     "text": [
      "['Lunes', 19, 'Febrero']\n"
     ]
    }
   ],
   "source": [
    "print(lista_sum)"
   ]
  },
  {
   "cell_type": "markdown",
   "metadata": {},
   "source": [
    "## Ejercicio 7\n",
    "Crea una función que reciba un número arbitrario de palabras, y devuelva una frase completa, separando las palabras con espacios."
   ]
  },
  {
   "cell_type": "code",
   "execution_count": 6,
   "metadata": {},
   "outputs": [
    {
     "ename": "NameError",
     "evalue": "name 'words' is not defined",
     "output_type": "error",
     "traceback": [
      "\u001b[1;31m---------------------------------------------------------------------------\u001b[0m",
      "\u001b[1;31mNameError\u001b[0m                                 Traceback (most recent call last)",
      "Cell \u001b[1;32mIn[6], line 8\u001b[0m\n\u001b[0;32m      5\u001b[0m \u001b[38;5;28;01mdef\u001b[39;00m \u001b[38;5;21mcervantes\u001b[39m(\u001b[38;5;241m*\u001b[39mwords):\n\u001b[0;32m      6\u001b[0m     \u001b[38;5;28;01mreturn\u001b[39;00m \u001b[38;5;124m'\u001b[39m\u001b[38;5;124m \u001b[39m\u001b[38;5;124m'\u001b[39m\u001b[38;5;241m.\u001b[39mjoin(\u001b[38;5;241m*\u001b[39mwords)\n\u001b[1;32m----> 8\u001b[0m cervantes(\u001b[38;5;241m*\u001b[39m\u001b[43mwords\u001b[49m)\n",
      "\u001b[1;31mNameError\u001b[0m: name 'words' is not defined"
     ]
    }
   ],
   "source": [
    "_1 = 'Superare' \n",
    "_2 = 'el'\n",
    "_3 = 'ramp-up'\n",
    "\n",
    "def cervantes(*words):\n",
    "    return ' '.join(*words)\n",
    "\n",
    "cervantes(*words)"
   ]
  },
  {
   "cell_type": "markdown",
   "metadata": {},
   "source": [
    "## Ejercicio 8\n",
    "Escribe un programa que obtenga el enésimo número de la [serie de Fibonacci](https://es.wikipedia.org/wiki/Sucesi%C3%B3n_de_Fibonacci). Tienes que crear una función recursiva con un único argumento.\n",
    "\n",
    "```Python\n",
    "fibonacci(2) = 1\n",
    "fibonacci(4) = 3\n",
    "fibonacci(5) = 5\n",
    "fibonacci(8) = 21\n",
    "```"
   ]
  },
  {
   "cell_type": "code",
   "execution_count": 23,
   "metadata": {},
   "outputs": [
    {
     "ename": "IndexError",
     "evalue": "list index out of range",
     "output_type": "error",
     "traceback": [
      "\u001b[1;31m---------------------------------------------------------------------------\u001b[0m",
      "\u001b[1;31mIndexError\u001b[0m                                Traceback (most recent call last)",
      "Cell \u001b[1;32mIn[23], line 9\u001b[0m\n\u001b[0;32m      6\u001b[0m         fibo\u001b[38;5;241m.\u001b[39mappend(\u001b[38;5;28mlen\u001b[39m(fibo)\u001b[38;5;241m-\u001b[39m\u001b[38;5;241m1\u001b[39m \u001b[38;5;241m+\u001b[39m \u001b[38;5;28mlen\u001b[39m(fibo)\u001b[38;5;241m-\u001b[39m\u001b[38;5;241m2\u001b[39m)\n\u001b[0;32m      7\u001b[0m         \u001b[38;5;28;01mreturn\u001b[39;00m fibo[n]\n\u001b[1;32m----> 9\u001b[0m \u001b[43mn_fibo\u001b[49m\u001b[43m(\u001b[49m\u001b[38;5;241;43m8\u001b[39;49m\u001b[43m)\u001b[49m\n",
      "Cell \u001b[1;32mIn[23], line 7\u001b[0m, in \u001b[0;36mn_fibo\u001b[1;34m(n)\u001b[0m\n\u001b[0;32m      5\u001b[0m fibo \u001b[38;5;241m=\u001b[39m [\u001b[38;5;241m0\u001b[39m,\u001b[38;5;241m1\u001b[39m]\n\u001b[0;32m      6\u001b[0m fibo\u001b[38;5;241m.\u001b[39mappend(\u001b[38;5;28mlen\u001b[39m(fibo)\u001b[38;5;241m-\u001b[39m\u001b[38;5;241m1\u001b[39m \u001b[38;5;241m+\u001b[39m \u001b[38;5;28mlen\u001b[39m(fibo)\u001b[38;5;241m-\u001b[39m\u001b[38;5;241m2\u001b[39m)\n\u001b[1;32m----> 7\u001b[0m \u001b[38;5;28;01mreturn\u001b[39;00m \u001b[43mfibo\u001b[49m\u001b[43m[\u001b[49m\u001b[43mn\u001b[49m\u001b[43m]\u001b[49m\n",
      "\u001b[1;31mIndexError\u001b[0m: list index out of range"
     ]
    }
   ],
   "source": [
    "def n_fibo(n):\n",
    "    if n == 1:\n",
    "        return n\n",
    "    elif     \n",
    "        fibo = [0,1]\n",
    "        fibo.append(len(fibo)-1 + len(fibo)-2)\n",
    "        return fibo[n]\n",
    "\n",
    "n_fibo(8)"
   ]
  },
  {
   "cell_type": "code",
   "execution_count": null,
   "metadata": {},
   "outputs": [],
   "source": []
  },
  {
   "cell_type": "markdown",
   "metadata": {},
   "source": [
    "## Ejercicio 9\n",
    "Define en una única celda las siguientes funciones:\n",
    "* Función que calcule el área de un cuadrado\n",
    "* Función que calcule el area de un triángulo\n",
    "* Función que calcule el área de un círculo\n",
    "\n",
    "En otra celda, calcular el area de:\n",
    "* Dos círculos de radio 10 + un triángulo de base 3 y altura 7\n",
    "* Un cuadrado de lado = 10 + 3 círculos (uno de radio = 4 y los otros dos de radio = 6) + 5 triángulos de base = 2 + altura = 4"
   ]
  },
  {
   "cell_type": "code",
   "execution_count": 8,
   "metadata": {},
   "outputs": [],
   "source": [
    "def cuadrado (lados:list):\n",
    "    for l in lados:\n",
    "       sup = l**2\n",
    "       return sup"
   ]
  },
  {
   "cell_type": "code",
   "execution_count": 9,
   "metadata": {},
   "outputs": [],
   "source": [
    "def triangulo (bases:list,alturas:list):\n",
    "    for b in bases: \n",
    "        sup = (b*h)/2\n",
    "    return sup"
   ]
  },
  {
   "cell_type": "code",
   "execution_count": 10,
   "metadata": {},
   "outputs": [],
   "source": [
    "def circulo (radios:list):\n",
    "    from math import pi\n",
    "    for r in radios:\n",
    "        sup = pi*(r**2)\n",
    "        return sup"
   ]
  },
  {
   "cell_type": "code",
   "execution_count": 11,
   "metadata": {},
   "outputs": [
    {
     "data": {
      "text/plain": [
       "638.8185307179587"
      ]
     },
     "execution_count": 11,
     "metadata": {},
     "output_type": "execute_result"
    }
   ],
   "source": [
    "num_cuadrados = 0\n",
    "num_triangulos = 1 \n",
    "num_circulos = 2\n",
    "b = 3\n",
    "h = 7\n",
    "r = 10\n",
    "l = 0\n",
    "def area_total (num_cuadrados, num_triangulos,num_circulos):\n",
    "    area = (num_cuadrados*cuadrado(l)) + (num_triangulos*triangulo(b,h)) + (num_circulos*circulo(r))\n",
    "    return area\n",
    "area_total(num_cuadrados, num_triangulos,num_circulos)"
   ]
  },
  {
   "cell_type": "code",
   "execution_count": 17,
   "metadata": {},
   "outputs": [
    {
     "data": {
      "text/plain": [
       "396.46015351590177"
      ]
     },
     "execution_count": 17,
     "metadata": {},
     "output_type": "execute_result"
    }
   ],
   "source": [
    "num_cuadrados = 1\n",
    "num_triangulos = 5\n",
    "num_circulos_R = 2\n",
    "num_circulos_r = 1\n",
    "b = 2\n",
    "h = 4\n",
    "r = 4\n",
    "R = 6\n",
    "l = 10\n",
    "\n",
    "def area_total_1 (num_cuadrados, num_triangulos,num_circulos_r, num_circulos_R):\n",
    "    area = (num_cuadrados*cuadrado(l)) + (num_triangulos*triangulo(b,h)) + (num_circulos_r*circulo(r)) + (num_circulos_R*circulo(R))\n",
    "    return area\n",
    "\n",
    "area_total_1(num_cuadrados, num_triangulos,num_circulos_r, num_circulos_R)\n"
   ]
  }
 ],
 "metadata": {
  "kernelspec": {
   "display_name": "Python 3",
   "language": "python",
   "name": "python3"
  },
  "language_info": {
   "codemirror_mode": {
    "name": "ipython",
    "version": 3
   },
   "file_extension": ".py",
   "mimetype": "text/x-python",
   "name": "python",
   "nbconvert_exporter": "python",
   "pygments_lexer": "ipython3",
   "version": "3.12.1"
  }
 },
 "nbformat": 4,
 "nbformat_minor": 4
}
