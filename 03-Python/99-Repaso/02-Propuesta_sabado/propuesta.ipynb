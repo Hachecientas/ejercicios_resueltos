{
 "cells": [
  {
   "cell_type": "markdown",
   "metadata": {},
   "source": [
    "Dada la lista `[4,7, -3]`, calcula su máximo, mínimo y suma."
   ]
  },
  {
   "cell_type": "code",
   "execution_count": null,
   "metadata": {},
   "outputs": [],
   "source": [
    "lista = [4,7,-3]\n",
    "print(max(lista))\n",
    "print(min(lista))\n",
    "print(sum(lista))"
   ]
  },
  {
   "cell_type": "markdown",
   "metadata": {},
   "source": [
    "Pon la frase \"Born to be wild\" en mayúsculas, luego en minúsculas, divídela por espacios y, por último, sustituye \"wild\" por \"Geek\"."
   ]
  },
  {
   "cell_type": "code",
   "execution_count": null,
   "metadata": {},
   "outputs": [],
   "source": [
    "texto = 'Born to be wild'\n",
    "\n",
    "texto.upper()\n",
    "texto.lower()\n",
    "texto.split()\n",
    "texto.replace('wild','Geek')"
   ]
  },
  {
   "cell_type": "markdown",
   "metadata": {},
   "source": [
    "Crea un programa en el que se recojan dos entradas, y la salida del programa sea un booleano que indique al usuario si esas entradas son iguales o no."
   ]
  },
  {
   "cell_type": "code",
   "execution_count": null,
   "metadata": {},
   "outputs": [],
   "source": [
    "input1 = input('Introduce un numero')\n",
    "input2 = input('Introduce otro numero')\n",
    "print(input1 == input2)\n"
   ]
  },
  {
   "cell_type": "markdown",
   "metadata": {},
   "source": [
    "Imprime los números entre 0 y 70 que son múltiplos de 3 y 5."
   ]
  },
  {
   "cell_type": "code",
   "execution_count": 2,
   "metadata": {},
   "outputs": [
    {
     "name": "stdout",
     "output_type": "stream",
     "text": [
      "0\n",
      "21\n",
      "42\n",
      "63\n"
     ]
    }
   ],
   "source": [
    "for i in range(0,71):\n",
    "    if i%3 == 0 and i%7 == 0:\n",
    "        print(i)"
   ]
  },
  {
   "cell_type": "markdown",
   "metadata": {},
   "source": [
    "Obtenga la primera y la segunda mejor puntuación de la lista.\n",
    "La lista contiene duplicados."
   ]
  },
  {
   "cell_type": "code",
   "execution_count": 4,
   "metadata": {},
   "outputs": [
    {
     "name": "stdout",
     "output_type": "stream",
     "text": [
      "[0, 1, 2, 23, 45, 83, 84, 85, 86]\n",
      "86\n",
      "85\n"
     ]
    }
   ],
   "source": [
    "scores = [86,86,85,85,85,83,23,45,84,1,2,0]\n",
    "\n",
    "set_scores = set(scores)\n",
    "\n",
    "l_scores = list(set_scores)\n",
    "\n",
    "l_scores = sorted(l_scores)\n",
    "print(l_scores)\n",
    "\n",
    "print(l_scores[-1])\n",
    "print(l_scores[-2])"
   ]
  },
  {
   "cell_type": "markdown",
   "metadata": {},
   "source": [
    "De la lista dada:\n",
    "    \n",
    "    a) Crea listas separadas de cadenas y números.\n",
    "\n",
    "    b) Ordena la lista de cadenas en orden ascendente.\n",
    "\n",
    "    c) Ordena la lista de cadenas en orden descendente\n",
    "\n",
    "    d) Ordenar la lista de números de menor a mayor\n",
    "\n",
    "    e) Ordenar la lista de números de mayor a menor"
   ]
  },
  {
   "cell_type": "code",
   "execution_count": null,
   "metadata": {},
   "outputs": [],
   "source": [
    "cadenas = [\"\"]"
   ]
  },
  {
   "cell_type": "markdown",
   "metadata": {},
   "source": [
    " Haz una lista de diez alienígenas, cada uno de los cuales es de un color: 'rojo', 'verde' o 'azul'.\n",
    "    - Puedes acortarlo a 'r', 'g' y 'b' si quieres, pero si eliges esta opción tienes que incluir un comentario explicando qué significan r, g y b.\n",
    "    - Los alienígenas rojos valen 5 puntos, los verdes valen 10 puntos y los azules valen 20 puntos.\n",
    "    - Utilice un bucle for para determinar el número de puntos que ganaría un jugador por destruir todos los alienígenas de su lista."
   ]
  },
  {
   "cell_type": "code",
   "execution_count": null,
   "metadata": {},
   "outputs": [],
   "source": [
    "lista = ['rojo','verde','rojo','azul','azul','verde','verde','azul','rojo','azul']\n",
    "puntos = 0\n",
    "for alien in lista:\n",
    "    if alien\n",
    "\n",
    "#la variable puntos no se resetea en cada vuelta porque esta fuera del bucle\n",
    "\n",
    "#se puede hacer con .count() "
   ]
  },
  {
   "cell_type": "markdown",
   "metadata": {},
   "source": [
    "Crea un programa que calcule la media.\n",
    "\n",
    "El programa pedirá al usuario que especifique cuántos números quiere introducir, y mostrará un aviso para incluir número a número a una lista, y luego calculará la media de esa lista."
   ]
  },
  {
   "cell_type": "code",
   "execution_count": 5,
   "metadata": {},
   "outputs": [
    {
     "name": "stdout",
     "output_type": "stream",
     "text": [
      "2.0\n"
     ]
    }
   ],
   "source": [
    "aviso1 = int(input('Introduzca el numero de numeros de los que quieres hacer la media'))\n",
    "\n",
    "lista_num = []\n",
    "for i in range(aviso1):\n",
    "    msg = 'Introduzca numero' + str(i+1)\n",
    "    num = float(input(msg))\n",
    "    lista_num.append(num)\n",
    "\n",
    "media = sum(lista_num)/aviso1\n",
    "print(media)"
   ]
  },
  {
   "cell_type": "markdown",
   "metadata": {},
   "source": [
    "Haga lo que se describe a continuación:\n",
    "\n",
    "- Crea una variable llamada fuerza, y fija su valor inicial en 5.\n",
    "\n",
    "- Imprime un mensaje informando de la fuerza del jugador.\n",
    "\n",
    "- Establece un bucle while que se ejecute hasta que la fuerza del jugador aumente hasta un valor como 10.\n",
    "\n",
    "- Dentro del bucle while, imprime un mensaje que informe de la fuerza actual del jugador.\n",
    "\n",
    "- Dentro del bucle while, escribe una sentencia que incremente la fuerza del jugador.\n",
    "\n",
    "- Fuera del bucle while, imprime un mensaje informando de que el jugador se ha hecho demasiado fuerte, y que ha pasado a un nuevo nivel del juego.\n",
    "\n",
    "Juega con diferentes niveles de corte para el valor de la fuerza, y juega con diferentes maneras de aumentar el valor de la fuerza dentro del bucle while."
   ]
  },
  {
   "cell_type": "code",
   "execution_count": 15,
   "metadata": {},
   "outputs": [
    {
     "name": "stdout",
     "output_type": "stream",
     "text": [
      "La fuerza del jugador es 5\n",
      "La fuerza del jugador es 5\n",
      "La fuerza del jugador es 6\n",
      "La fuerza del jugador es 7\n",
      "La fuerza del jugador es 8\n",
      "La fuerza del jugador es 9\n",
      "El jugador se ha hecho demasiado fuerte, aumentas de nivel\n"
     ]
    },
    {
     "data": {
      "text/plain": [
       "'El orden de las ordenes es importante: primero le digo que imprima y luego que actualice, si lo hiciera al reves,\\nactualizaria e imprimiria, entonces incluiria el 10 y el mensaje de max fuerza'"
      ]
     },
     "execution_count": 15,
     "metadata": {},
     "output_type": "execute_result"
    }
   ],
   "source": [
    "fuerza = 5\n",
    "print(f'La fuerza del jugador es {fuerza}')\n",
    "\n",
    "while fuerza < 10:\n",
    "    print(f'La fuerza del jugador es {fuerza}')\n",
    "    fuerza = fuerza + 1\n",
    "print('El jugador se ha hecho demasiado fuerte, aumentas de nivel')\n",
    "\n",
    "'''El orden de las ordenes es importante: primero le digo que imprima y luego que actualice, si lo hiciera al reves,\n",
    "actualizaria e imprimiria, entonces incluiria el 10 y el mensaje de max fuerza'''"
   ]
  },
  {
   "cell_type": "markdown",
   "metadata": {},
   "source": [
    "\n",
    "Escribe una función que pida un entero e imprima el cuadrado del mismo. Sigue comprobando hasta que la función obtiene un entero.\n",
    "\n"
   ]
  },
  {
   "cell_type": "markdown",
   "metadata": {},
   "source": [
    "Practice_10_OOP Ejercicio 1"
   ]
  },
  {
   "cell_type": "code",
   "execution_count": 20,
   "metadata": {},
   "outputs": [
    {
     "name": "stdout",
     "output_type": "stream",
     "text": [
      "No es un numero\n",
      "No es un numero\n",
      "No es un numero\n",
      "No es un numero\n",
      "No es un numero\n",
      "No es un numero\n",
      "No es un numero\n"
     ]
    }
   ],
   "source": [
    "def cuadrado(i):\n",
    "    print(i**2)\n",
    "entero = '' ##definimos la condicion para que entre en el bucle\n",
    "while type(entero) != int:\n",
    "    try:\n",
    "        entero = int(input('Introduce un entero'))\n",
    "        cuadrado(entero)\n",
    "    except:\n",
    "        print('No es un numero')\n",
    "        continue ##ordena volver al bucle while arriba al no cumplirse la condicion\n"
   ]
  },
  {
   "cell_type": "code",
   "execution_count": null,
   "metadata": {},
   "outputs": [],
   "source": [
    "def cuadrado(i):\n",
    "    print(i**2)\n",
    "entero = '' ##definimos la condicion para que entre en el bucle\n",
    "while type(entero) != int:\n",
    "    try:\n",
    "        entero = int(input('Introduce un entero'))\n",
    "        cuadrado(entero)\n",
    "    except:\n",
    "        print('No es un numero')\n",
    "        continue ##ordena volver al bucle while arriba al no cumplirse la condicion"
   ]
  },
  {
   "cell_type": "code",
   "execution_count": 2,
   "metadata": {},
   "outputs": [
    {
     "name": "stdout",
     "output_type": "stream",
     "text": [
      "No es un numero\n",
      "No es un numero\n",
      "625\n"
     ]
    }
   ],
   "source": [
    "def cuadrado(i):\n",
    "    print(i**2)\n",
    "es_entero = False\n",
    "while es_entero == False:\n",
    "    try:\n",
    "        entero = int(input('Introduce un entero'))\n",
    "        es_entero = True\n",
    "        cuadrado(entero)\n",
    "    except:\n",
    "        print('No es un numero')\n",
    "        continue ##ordena volver al bucle while arriba al no cumplirse la condicion"
   ]
  },
  {
   "cell_type": "code",
   "execution_count": 3,
   "metadata": {},
   "outputs": [
    {
     "name": "stdout",
     "output_type": "stream",
     "text": [
      "No es un numero\n",
      "625\n"
     ]
    }
   ],
   "source": [
    "def cuadrado(i):\n",
    "    print(i**2)\n",
    "while True:\n",
    "    try:\n",
    "        entero = int(input('Introduce un entero'))\n",
    "        cuadrado(entero)\n",
    "        break\n",
    "    except:\n",
    "        print('No es un numero')\n",
    "        continue ##ordena volver al bucle while arriba al no cumplirse la condicion"
   ]
  },
  {
   "cell_type": "code",
   "execution_count": null,
   "metadata": {},
   "outputs": [],
   "source": [
    "dni = '12345678N'\n",
    "\n",
    "if type(dni) != str:\n",
    "    print('No es una cadena')\n",
    "elif len(dni) < 9 and len(dni) > 9:\n",
    "    print('Largo incorrecto')\n",
    "elif dni[-1].isnumeric() == True: ## tambien al contrario con dni.isalpha() == False (si no es letra imprime mensaje de alerta)\n",
    "    print('No acaba en letra')\n",
    "\n",
    "## ojo a las condiciones: if/elif solo ejecuta una rama, osea si encuentra la primera condición para (es excluyente). Mirar que pueden darse\n",
    "## varias condiciones a la vez(por ejemplo errores que quiero encontrar) porque si quieres encontrarlas hay que poner if en\n",
    "## todas las condiciones. De esta manera no serian excluyentes "
   ]
  }
 ],
 "metadata": {
  "kernelspec": {
   "display_name": "Python 3",
   "language": "python",
   "name": "python3"
  },
  "language_info": {
   "codemirror_mode": {
    "name": "ipython",
    "version": 3
   },
   "file_extension": ".py",
   "mimetype": "text/x-python",
   "name": "python",
   "nbconvert_exporter": "python",
   "pygments_lexer": "ipython3",
   "version": "3.12.1"
  }
 },
 "nbformat": 4,
 "nbformat_minor": 2
}
