{
 "cells": [
  {
   "cell_type": "markdown",
   "metadata": {},
   "source": [
    "# Listado de ejercicios para practicar traducir problemas a código y hacer funciones\n",
    "#### Si quieres extra práctica, prueba a resolver los programas primero sin usar funciones y luego con funciones\n",
    "#### Divide y vencerás, la mejor forma de resolver estos ejercicios es leyendo bien el enunciado y dividendo casa paso para resolver dicho enunciado en pequeñas instruccioens de python que ya has usado varias veces antes!\n",
    "#### Si no te sale algún ejercicio:\n",
    "##### Repasa, descansa, prueba con otros ejercicios, escribe en un papel o comentario de python que quieres hacer y vuelve al ejercicio \n",
    "##### Cuidado con los errores de sintaxis: comprueba que los paréntesis están bien puestos, las comillas cerradas, el tipo de datos es correcto...\n",
    "##### Cuidado con los errores de indentación: tabulador o cuatro espacios  \n"
   ]
  },
  {
   "cell_type": "markdown",
   "metadata": {},
   "source": [
    "##### Estoy overtime y odio hacer horas extra. Espero que si me pides ayuda me muestres tu trabajo: un intento de código (aunque no funcione), una frase en español o inglés indicando que es lo que quieres hacer, una duda concreta... pero no la celda vacía\n",
    "\n",
    "![imagen](img/overtime.gif)"
   ]
  },
  {
   "cell_type": "code",
   "execution_count": null,
   "metadata": {},
   "outputs": [],
   "source": [
    "### El primero viene resuelto, para calentar:\n",
    "## Si tenemos una granja con 42 pollos y 35 cerdos. ¿Cuántas patas de animales hay en la granja?\n",
    "## Resuelvelo usando una función\n",
    "\n",
    "def contar_patas(pollos, cerdos):\n",
    "    patas = pollos * 2 + cerdos * 4\n",
    "    return patas\n",
    "\n",
    "print(contar_patas(42,35))\n",
    "\n"
   ]
  },
  {
   "cell_type": "code",
   "execution_count": null,
   "metadata": {},
   "outputs": [],
   "source": [
    "# Ahora tú!\n",
    "\n",
    "# Tengo una lista de granjas de pollos y otra de cerdos, calcula cuantas patas hay en total contando los animales de todas\n",
    "# las granjas\n",
    "%reset\n",
    "lista_p = [42, 49, 101, 88]\n",
    "lista_c = [35, 29, 55]\n",
    "\n",
    "def contarpatas (lista_pollos:list, lista_cerdos:list):\n",
    "    legs = [chicken*2 for chicken in lista_pollos] + [pigs*4 for pigs in lista_cerdos]\n",
    "    total_legs = sum(legs)\n",
    "    return total_legs\n",
    "\n",
    "contarpatas(lista_p,lista_c)"
   ]
  },
  {
   "cell_type": "code",
   "execution_count": null,
   "metadata": {},
   "outputs": [],
   "source": [
    "# Cálcula las patas que hay en cada granja por separado\n",
    "\n",
    "granja1 = {\"pollos\": 42,\n",
    "           \"cerdos\": 35\n",
    "}\n",
    "\n",
    "granja2 = {\"pollos\": 49,\n",
    "           \"cerdos\": 29\n",
    "}\n",
    "\n",
    "\n",
    "granja3 = {\"pollos\": 101,\n",
    "           \"cerdos\": 55\n",
    "}\n",
    "\n",
    "def contar_granjas(granja1,granja2,granja3):\n",
    "    for items1 in granja1.items():\n",
    "        total_granja1 = granja1['pollos']*2 + granja1['cerdos']*4\n",
    "    for items2 in granja2.items():\n",
    "        total_granja2 = granja2['pollos']*2 + granja2['cerdos']*4\n",
    "    for items3 in granja3.items():\n",
    "        total_granja3 = granja3['pollos']*2 + granja3['cerdos']*4\n",
    "    total = total_granja1 + total_granja2 + total_granja3\n",
    "    return total\n",
    "\n",
    "contar_granjas(granja1,granja2,granja3)"
   ]
  },
  {
   "cell_type": "code",
   "execution_count": null,
   "metadata": {},
   "outputs": [],
   "source": [
    "# La sucesión aritmética\n",
    "# Una sucesión aritmética consiste en una serie de números que se calculan sumando una cantidad fija al número anterior.\n",
    "# [1, 5, 9, 13] es una sucesión aritmética que partiendo del 1, se incrementa de 4 en 4\n",
    "# Partiendo de la lista_inicial = [0], calcula los 30 primeros números de la sucesión aritmética que se incrementa de 7 en 7\n",
    "\n",
    "def sucesion (n):\n",
    "    suc = [0]\n",
    "    for i in suc:\n",
    "        suc.append(i+7)\n",
    "        if len(suc) == n:\n",
    "            break\n",
    "    print(suc)\n",
    "\n",
    "sucesion (30)"
   ]
  },
  {
   "cell_type": "code",
   "execution_count": null,
   "metadata": {},
   "outputs": [],
   "source": [
    "# La sucesión geométrica\n",
    "# Una sucesión aritmética consiste en una serie de números que se calculan multiplicando una cantidad fija al número anterior.\n",
    "# [1, 4, 16, 64] es una sucesión geométrica que partiendo del 1, se multiplica por 4\n",
    "# Partiendo de la lista_inicial = [1], calcula los 30 primeros números de la sucesión geométrica que se multiplica por 3\n",
    "\n",
    "def sucesion1 (n):\n",
    "    suc1 = [1]\n",
    "    for i in suc1:\n",
    "        suc1.append(i*3)\n",
    "        if len(suc1) == n:\n",
    "            break\n",
    "    print(suc1)\n",
    "\n",
    "sucesion1 (30)"
   ]
  },
  {
   "cell_type": "code",
   "execution_count": null,
   "metadata": {},
   "outputs": [],
   "source": [
    "# Más sucesiones\n",
    "# Si tenemos una sucesión que partiendo de la lista_inicial_arit = [2] y se incrementa de 11 en 11\n",
    "# Y una sucesión que partiendo de la lista_inicial_geo = [1] y se mutiplica por 2\n",
    "# Genera los 20 primeros elementos de cada lista e indica cuando la sucesión geométrica genera valores mayores a la aritmética\n",
    "\n",
    "\n",
    "def geo_vs_arit (z):\n",
    "    lista_inicial_arit = [2]\n",
    "    lista_inicial_geo = [1]\n",
    "    for x in lista_inicial_arit:\n",
    "        lista_inicial_arit.append(x + 11)\n",
    "        if len(lista_inicial_arit) == z:\n",
    "            break\n",
    "    print(lista_inicial_arit)\n",
    "    for y in lista_inicial_geo:\n",
    "        lista_inicial_geo.append(y*2)\n",
    "        if len(lista_inicial_geo) == z:\n",
    "            break\n",
    "    print(lista_inicial_geo)\n",
    "\n",
    "    for indice,(item1,item2) in enumerate(zip(lista_inicial_arit,lista_inicial_geo)):\n",
    "        if item2 > item1:\n",
    "            print(f\"El indice {indice} en lista geometrica {item2} es mayor que el elemento {item1}\")\n",
    "\n",
    "geo_vs_arit (20)\n",
    "    "
   ]
  },
  {
   "cell_type": "code",
   "execution_count": null,
   "metadata": {},
   "outputs": [],
   "source": [
    "# Más sucesiones\n",
    "# Combinemos aritméticas y geométricas: cada nuevo elemento se genera multiplicando el anterior por un número y\n",
    "# sumando una cantidad fija.\n",
    "# Ejemplo lista = [1], podemos generar números que multipliquen por 3 y sumen 12. Así pues, el siguiente\n",
    "# sería 1*3+12 y así, sucesivamente.\n",
    "# Haz una función que tenga como argumentos el multiplicador y la suma fija para poder generar cualquier\n",
    "# sucesión de este tipo \n",
    "\n",
    "def multisuma (multiplicando,sumando,i,n):\n",
    "    lista = [i]\n",
    "    for x in lista:\n",
    "        lista.append((x*multiplicando)+sumando)\n",
    "        if len(lista) == n:\n",
    "            break\n",
    "    print(lista)\n",
    "\n",
    "multisuma(2,7,0,20)\n",
    "\n"
   ]
  },
  {
   "cell_type": "code",
   "execution_count": 1,
   "metadata": {},
   "outputs": [
    {
     "name": "stdout",
     "output_type": "stream",
     "text": [
      "[5, 7, 7.0, 8.0, 8.5, 9.25, 9.875, 10.5625, 11.21875, 11.890625, 12.5546875, 13.22265625, 13.888671875, 14.5556640625, 15.22216796875, 15.888916015625, 16.5555419921875, 17.22222900390625, 17.888885498046875, 18.555557250976562]\n"
     ]
    }
   ],
   "source": [
    "# Un último de sucesiones\n",
    "# Piensa en el ejemplo de Fibonacci\n",
    "# Las sucesiones pueden ser muy flexibles: partiendo de la lista = [5,7], intenta generar la sucesión que usa\n",
    "# la media de los dos números previos y suma uno al resultado\n",
    "# Sigue pensando en Fibonacci! \n",
    "\n",
    "def media_suma(lista,n):\n",
    "    for i in lista:\n",
    "        nextn = ((lista[-2] + lista[-1])/2)+1\n",
    "        lista.append(nextn)\n",
    "        if len(lista) == n:\n",
    "         break\n",
    "    print(lista)\n",
    "\n",
    "lista_ini = [5,7]\n",
    "\n",
    "media_suma(lista_ini,20)\n",
    "\n"
   ]
  },
  {
   "cell_type": "code",
   "execution_count": 3,
   "metadata": {},
   "outputs": [
    {
     "data": {
      "text/plain": [
       "[5,\n",
       " 7,\n",
       " 7.0,\n",
       " 8.0,\n",
       " 8.5,\n",
       " 9.25,\n",
       " 9.875,\n",
       " 10.5625,\n",
       " 11.21875,\n",
       " 11.890625,\n",
       " 12.5546875,\n",
       " 13.22265625,\n",
       " 13.888671875,\n",
       " 14.5556640625,\n",
       " 15.22216796875,\n",
       " 15.888916015625,\n",
       " 16.5555419921875,\n",
       " 17.22222900390625,\n",
       " 17.888885498046875,\n",
       " 18.555557250976562,\n",
       " 19.22222137451172,\n",
       " 19.88888931274414,\n",
       " 20.55555534362793]"
      ]
     },
     "execution_count": 3,
     "metadata": {},
     "output_type": "execute_result"
    }
   ],
   "source": [
    "def media_suma(lista,rango):\n",
    "    for i in range(rango+1):\n",
    "        nextn = ((lista[-2] + lista[-1])/2)+1\n",
    "        lista.append(nextn)\n",
    "    return lista\n",
    "\n",
    "lista_ini = [5,7]\n",
    "total = 20\n",
    "media_suma(lista_ini,total)"
   ]
  },
  {
   "cell_type": "code",
   "execution_count": null,
   "metadata": {},
   "outputs": [],
   "source": [
    "# Crea un programa que pida al usuario su nombre, apellidos, edad y DNI y lo guarde en un diccionario\n",
    "\n",
    "def persona ():\n",
    "    datos = dict ()\n",
    "    datos['Nombre'] = input('Introduzca su nombre')\n",
    "    datos['Apellidos'] = input('Introduzca sus apellidos')\n",
    "    datos['Edad'] = input('Introduzca su edad')\n",
    "    datos['DNI']= input('Introduzca su DNI')\n",
    "    return datos\n",
    "\n",
    "persona() "
   ]
  },
  {
   "cell_type": "code",
   "execution_count": null,
   "metadata": {},
   "outputs": [],
   "source": [
    "tupla_1 = (1, 2, 1, 3, 5, 9)\n",
    "tupla_2 = (9, 9, 3, 5, 10)\n",
    "# Crea una tupla que contenga los valores de tupla_1 y tupla_2 pero sin valores repetidos \n",
    "\n",
    "#primero creo dos sets y los uno, despues hago casting otra vez a tupla\n",
    "\n",
    "set_1 = set(tupla_1)\n",
    "set_2 = set(tupla_2)\n",
    "\n",
    "set3 = set_1|set_2\n",
    "print(tuple(set3))\n"
   ]
  },
  {
   "cell_type": "code",
   "execution_count": null,
   "metadata": {},
   "outputs": [],
   "source": [
    "# Crea un programa que pida al usuario números para calcular la raíz cuadrada de los mismos. Captura la excepción de que\n",
    "# haya introducido un número negativo y haz que calcule la raíz cuadrada del valor absoluto en esa situación.\n",
    "\n",
    "def raiz_cuadrada ():\n",
    "    try:\n",
    "        from math import sqrt\n",
    "        x = int(input('Introduzca un numero'))\n",
    "        raiz = sqrt(x)\n",
    "        return raiz\n",
    "    except:\n",
    "        print('La proxima vez solo números positivos')\n",
    "        y = abs(x)\n",
    "        raiz1 = sqrt(y)\n",
    "        return raiz1      \n",
    "\n",
    "raiz_cuadrada()\n"
   ]
  },
  {
   "cell_type": "code",
   "execution_count": 4,
   "metadata": {},
   "outputs": [
    {
     "data": {
      "text/plain": [
       "15625.0"
      ]
     },
     "execution_count": 4,
     "metadata": {},
     "output_type": "execute_result"
    }
   ],
   "source": [
    "# Crea un programa que pida al usuario dos números enteros para calcular la potencia del primero al segundo. \n",
    "# Captura la excepción de que haya introducido algún número con decimales, y haz que calcule la potencia redondeando\n",
    "# con cero decimales\n",
    "\n",
    "def potencia ():\n",
    "    input1 = input('Introduce un número')\n",
    "    input2 = input('Introduce otro número')\n",
    "    from math import pow\n",
    "    try:\n",
    "        resultado = pow(int(input1),int(input2))\n",
    "        return resultado\n",
    "    except:\n",
    "        x = round(float(input1),0)\n",
    "        y = round(float(input2),0)\n",
    "        resultado1 = pow(x,y)\n",
    "        return resultado1\n",
    "\n",
    "potencia()\n"
   ]
  },
  {
   "cell_type": "code",
   "execution_count": null,
   "metadata": {},
   "outputs": [],
   "source": [
    "# Crea un programa que pida al usuario números para calcular la raíz cuadrada de los mismos. \n",
    "# Captura la excepción de que haya introducido un número negativo y haz que calcule la raíz cuadrada\n",
    "# del valor absoluto en esa situación\n",
    "# El programa continua pidiendo al usuario números y calculando la raíz hasta que el usuario introduzce el número 0,\n",
    "# en cuyo caso, termina el programa.\n"
   ]
  },
  {
   "cell_type": "code",
   "execution_count": 13,
   "metadata": {},
   "outputs": [],
   "source": [
    "from math import sqrt\n",
    "from math import fabs\n",
    "def raiz ():\n",
    "    while True:\n",
    "        input3 = float(input('Introduce un numero'))\n",
    "        try:\n",
    "            if input3 == 0:\n",
    "                break\n",
    "            print((sqrt(input3)))\n",
    "        except:\n",
    "            print((sqrt(fabs(input3))))\n",
    "    \n",
    "raiz()\n",
    "\n",
    "\n",
    "#con continue le decimos al bucle en que punto del codigo quiero que vuelva al bucle (ignorando todo el codigo que hay por debajo de el)"
   ]
  },
  {
   "cell_type": "code",
   "execution_count": null,
   "metadata": {},
   "outputs": [],
   "source": [
    "# Crea un programa que pida al usuario dos números enteros para calcular la potencia del primero al segundo.\n",
    "# Captura la excepción de que haya introducido algún número con decimales, y haz que calcule la potencia redondeando\n",
    "# con cero decimales\n",
    "# El programa continua pidiendo al usuario números y calculando la potencia hasta que el usuario introduzce \n",
    "# dos veces el número 0, en cuyo caso, termina el programa.\n",
    "\n",
    "from math import pow\n",
    "def potencia ():\n",
    "    while True:\n",
    "        input4 = float(input('Introduce un numero'))\n",
    "        input5 = float(input('Introduce otro numero'))\n",
    "        try:\n",
    "            if (input4) == '0' and input5 == '0':\n",
    "                break\n",
    "            x = pow(input4,input5)\n",
    "            print(x)\n",
    "        except:\n",
    "            y = pow (round(input4,0),round(input5,0))\n",
    "            print(y)\n",
    "\n",
    "potencia()\n",
    "    "
   ]
  },
  {
   "cell_type": "code",
   "execution_count": 113,
   "metadata": {},
   "outputs": [
    {
     "name": "stdout",
     "output_type": "stream",
     "text": [
      "Ada Byron Lovelace\n"
     ]
    }
   ],
   "source": [
    "# La mejor nota\n",
    "# Partiendo de esta lista de diccionarios, imprime por pantalla el nombre y apellidos del/a alumn@ con mejor nota:\n",
    "\n",
    "alum_1 = {\"nombre\": \"Juan\",\n",
    "        \"apellidos\": \"Rey Pastor\",\n",
    "        \"nota\": 7}\n",
    "\n",
    "alum_2 = {\"nombre\": \"Ada\",\n",
    "        \"apellidos\": \"Byron Lovelace\",\n",
    "        \"nota\": 9}\n",
    "\n",
    "alum_3 = {\"nombre\": \"Grace\",\n",
    "        \"apellidos\": \"Brewster Murray\",\n",
    "        \"nota\": 6}\n",
    "\n",
    "lista_alum = [alum_1, alum_2, alum_3]\n",
    "\n",
    "def mejor_nota(lista_alum:list):\n",
    "        lista_notas = [alumnos['nota'] for alumnos in lista_alum]\n",
    "        lista_notas.sort()\n",
    "        for alumnos in lista_alum:\n",
    "                if alumnos['nota'] == lista_notas[-1]:          \n",
    "                        print(alumnos['nombre'], alumnos['apellidos'])\n",
    "        return\n",
    "        \n",
    "\n",
    "mejor_nota(lista_alum)"
   ]
  },
  {
   "cell_type": "code",
   "execution_count": null,
   "metadata": {},
   "outputs": [],
   "source": [
    "# Calcula el salario\n",
    "# Partiendo de una lista de horas trabajadas por día y recibiendo un salario de 25 dolares la hora. \n",
    "# Calcula cuantos dolares ganó cada día\n",
    "# Así como el día que menos dineró gano y el día que más dinero ganó\n",
    "\n",
    "horas_dias = [7, 8, 6, 4, 0, 7.5, 6.5]\n",
    "\n",
    "def salario(horas_dias:list,salario): \n",
    "    jornal = [(jornada*salario) for jornada in (horas_dias)]\n",
    "    maximo = max(jornal)\n",
    "    minimo = min(jornal)\n",
    "    return maximo,minimo\n",
    "\n",
    "salario(horas_dias, 25)"
   ]
  },
  {
   "cell_type": "code",
   "execution_count": null,
   "metadata": {},
   "outputs": [],
   "source": [
    "# Calcula la media de salario\n",
    "# ¿Podrías calcular la media de salario percibido según el ejercicio anterior?\n",
    "# Si el máximo de horas trabajadas por días es 8. ¿Cuánto dinero extra podría haber ganado cada día si trabajase\n",
    "# siempre el máximo de horas posibles?\n",
    "\n",
    "horas_dias = [7, 8, 6, 4, 0, 7.5, 6.5]\n",
    "\n",
    "def salario(horas_dias:list,salario): \n",
    "    jornal = [jornada*salario for jornada in horas_dias]\n",
    "    mean = sum(jornal)/len(jornal)\n",
    "    return mean\n",
    "\n",
    "def diferencia(horas_dias,salario):\n",
    "    jornal = [jornada*salario for jornada in horas_dias]\n",
    "    jornada_max = 8\n",
    "    sueldo_integro = salario*jornada_max\n",
    "    diferencia = [sueldo_integro-jornal_diario for jornal_diario in enumerate(jornal)]\n",
    "    return diferencia\n",
    "\n",
    "salario (horas_dias,25)\n",
    "diferencia(horas_dias,25)"
   ]
  },
  {
   "cell_type": "code",
   "execution_count": null,
   "metadata": {},
   "outputs": [],
   "source": [
    "# Usa una función que con el número de horas trabajadas y el salario por hora, calcule:\n",
    "# El dinero ganado ese dia\n",
    "# Las horas que descansó (si tiene 24 horas el día)\n",
    "# El dinero que pudo haber ganado si hubiera trabajado las 8 horas máximas permitidas\n",
    "\n",
    "def salario(jornada:int,salario:float): \n",
    "    jornal = jornada*salario\n",
    "    h_dia = 24\n",
    "    descanso = h_dia - jornada\n",
    "    jornada_max = 8\n",
    "    jornal_max = jornada_max*salario\n",
    "    dif_extra = jornal_max - jornal\n",
    "    print(f'El dinero ganado fue de {jornal} €')\n",
    "    print(f'El descanso fue de {descanso} h')\n",
    "    print(f'El dinero que podría haber ganado trabajando la jornada máxima sería de {dif_extra} €')\n",
    "    return\n",
    "\n",
    "salario(6.5,25.5)\n",
    "\n"
   ]
  },
  {
   "cell_type": "code",
   "execution_count": null,
   "metadata": {},
   "outputs": [],
   "source": [
    "def salario(jornada:int,salario:float): \n",
    "    jornal = jornada*salario\n",
    "    h_dia = 24\n",
    "    descanso = h_dia - jornada\n",
    "    jornada_max = 8\n",
    "    jornal_max = jornada_max*salario\n",
    "    dif_extra = jornal_max - jornal\n",
    "    return (jornal,descanso,dif_extra)\n",
    "\n",
    "salario(6.5,25)\n",
    "\n",
    "'''Lo mejor es que si hay muchas variables que puedan ser utiles en adelante del codigo el resultado de la funcion sea\n",
    "un diccionario con todas ellas, al no estar indexado puedo acceder con el nombre de la llave al valor y seguir usandolo\n",
    "más adelante'''\n",
    "    "
   ]
  },
  {
   "cell_type": "code",
   "execution_count": null,
   "metadata": {},
   "outputs": [],
   "source": []
  }
 ],
 "metadata": {
  "kernelspec": {
   "display_name": "Python 3",
   "language": "python",
   "name": "python3"
  },
  "language_info": {
   "codemirror_mode": {
    "name": "ipython",
    "version": 3
   },
   "file_extension": ".py",
   "mimetype": "text/x-python",
   "name": "python",
   "nbconvert_exporter": "python",
   "pygments_lexer": "ipython3",
   "version": "3.12.1"
  }
 },
 "nbformat": 4,
 "nbformat_minor": 2
}
